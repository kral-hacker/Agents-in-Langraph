{
 "cells": [
  {
   "cell_type": "code",
   "execution_count": 9,
   "metadata": {},
   "outputs": [],
   "source": [
    "import os\n",
    "import openai\n",
    "import re\n",
    "import httpx\n",
    "from dotenv import load_dotenv\n",
    "_ = load_dotenv()\n",
    "from openai import OpenAI\n"
   ]
  },
  {
   "cell_type": "code",
   "execution_count": 10,
   "metadata": {},
   "outputs": [],
   "source": [
    "from langgraph.graph import StateGraph, END\n",
    "from typing import TypedDict, Annotated\n",
    "import operator\n",
    "from langchain_core.messages import AnyMessage, SystemMessage, HumanMessage, ToolMessage\n",
    "from langchain_openai import ChatOpenAI\n",
    "from langchain_community.tools.tavily_search import TavilySearchResults"
   ]
  },
  {
   "cell_type": "code",
   "execution_count": 11,
   "metadata": {},
   "outputs": [
    {
     "name": "stdout",
     "output_type": "stream",
     "text": [
      "<class 'langchain_community.tools.tavily_search.tool.TavilySearchResults'>\n",
      "tavily_search_results_json\n"
     ]
    }
   ],
   "source": [
    "tool = TavilySearchResults(max_results=2)\n",
    "print(type(tool))\n",
    "print(tool.name)"
   ]
  },
  {
   "cell_type": "code",
   "execution_count": 13,
   "metadata": {},
   "outputs": [],
   "source": [
    "class AgentState(TypedDict):\n",
    "    messages: Annotated[list[AnyMessage], operator.add]  ## This will ensure that the messages are added not overwritten"
   ]
  },
  {
   "cell_type": "code",
   "execution_count": 14,
   "metadata": {},
   "outputs": [],
   "source": [
    "class Agent:\n",
    "\n",
    "    def __init__(self, model, tools, system=\"\"):\n",
    "        self.system = system\n",
    "        graph = StateGraph(AgentState)\n",
    "        graph.add_node(\"llm\", self.call_openai)\n",
    "        graph.add_node(\"action\", self.take_action)\n",
    "        graph.add_conditional_edges(\n",
    "            \"llm\",\n",
    "            self.exists_action,\n",
    "            {True: \"action\", False: END}\n",
    "        )\n",
    "        graph.add_edge(\"action\", \"llm\")\n",
    "        graph.set_entry_point(\"llm\")\n",
    "        self.graph = graph.compile()\n",
    "        self.tools = {t.name: t for t in tools}\n",
    "        self.model = model.bind_tools(tools)\n",
    "\n",
    "    def exists_action(self, state: AgentState):\n",
    "        result = state['messages'][-1]\n",
    "        return len(result.tool_calls) > 0\n",
    "\n",
    "    def call_openai(self, state: AgentState):\n",
    "        messages = state['messages']\n",
    "        if self.system:\n",
    "            messages = [SystemMessage(content=self.system)] + messages\n",
    "        message = self.model.invoke(messages)\n",
    "        return {'messages': [message]}\n",
    "\n",
    "    def take_action(self, state: AgentState):\n",
    "        tool_calls = state['messages'][-1].tool_calls\n",
    "        results = []\n",
    "        for t in tool_calls:\n",
    "            print(f\"Calling: {t}\")\n",
    "            if not t['name'] in self.tools:      # check for bad tool name from LLM\n",
    "                print(\"\\n ....bad tool name....\")\n",
    "                result = \"bad tool name, retry\"  # instruct LLM to retry if bad\n",
    "            else:\n",
    "                result = self.tools[t['name']].invoke(t['args'])\n",
    "            results.append(ToolMessage(tool_call_id=t['id'], name=t['name'], content=str(result)))\n",
    "        print(\"Back to the model!\")\n",
    "        return {'messages': results}"
   ]
  },
  {
   "cell_type": "code",
   "execution_count": 15,
   "metadata": {},
   "outputs": [],
   "source": [
    "prompt = \"\"\"You are a smart research assistant. Use the search engine to look up information. \\\n",
    "You are allowed to make multiple calls (either together or in sequence). \\\n",
    "Only look up information when you are sure of what you want. \\\n",
    "If you need to look up some information before asking a follow up question, you are allowed to do that!\n",
    "\"\"\"\n",
    "\n",
    "model = ChatOpenAI(model=\"gpt-3.5-turbo\")  #reduce inference cost\n",
    "abot = Agent(model, [tool], system=prompt)"
   ]
  },
  {
   "cell_type": "code",
   "execution_count": 17,
   "metadata": {},
   "outputs": [
    {
     "name": "stdout",
     "output_type": "stream",
     "text": [
      "Calling: {'name': 'tavily_search_results_json', 'args': {'query': 'weather in San Francisco'}, 'id': 'call_wRSnQHrJYaVqTXqX3zb98z6t', 'type': 'tool_call'}\n",
      "Back to the model!\n"
     ]
    }
   ],
   "source": [
    "messages = [HumanMessage(content=\"What is the weather in sf?\")]\n",
    "result = abot.graph.invoke({\"messages\": messages})"
   ]
  },
  {
   "cell_type": "code",
   "execution_count": 18,
   "metadata": {},
   "outputs": [
    {
     "data": {
      "text/plain": [
       "{'messages': [HumanMessage(content='What is the weather in sf?', additional_kwargs={}, response_metadata={}),\n",
       "  AIMessage(content='', additional_kwargs={'tool_calls': [{'id': 'call_wRSnQHrJYaVqTXqX3zb98z6t', 'function': {'arguments': '{\"query\":\"weather in San Francisco\"}', 'name': 'tavily_search_results_json'}, 'type': 'function'}], 'refusal': None}, response_metadata={'token_usage': {'completion_tokens': 22, 'prompt_tokens': 153, 'total_tokens': 175, 'completion_tokens_details': {'accepted_prediction_tokens': 0, 'audio_tokens': 0, 'reasoning_tokens': 0, 'rejected_prediction_tokens': 0}, 'prompt_tokens_details': {'audio_tokens': 0, 'cached_tokens': 0}}, 'model_name': 'gpt-3.5-turbo-0125', 'system_fingerprint': None, 'id': 'chatcmpl-BGTtAwoxfDpG5bo4dPQf6muHR4C8h', 'finish_reason': 'tool_calls', 'logprobs': None}, id='run-b6bc8c55-9af9-4bc7-bdc6-43fd1da472fd-0', tool_calls=[{'name': 'tavily_search_results_json', 'args': {'query': 'weather in San Francisco'}, 'id': 'call_wRSnQHrJYaVqTXqX3zb98z6t', 'type': 'tool_call'}], usage_metadata={'input_tokens': 153, 'output_tokens': 22, 'total_tokens': 175, 'input_token_details': {'audio': 0, 'cache_read': 0}, 'output_token_details': {'audio': 0, 'reasoning': 0}}),\n",
       "  ToolMessage(content=\"[{'title': 'Weather San Francisco in March 2025: Temperature & Climate', 'url': 'https://en.climate-data.org/north-america/united-states-of-america/california/san-francisco-385/t/march-3/', 'content': '| 28. March | 12 °C | 54 °F | 17 °C | 62 °F | 9 °C | 47 °F | 12 °C | 53 °F | 2.4 mm | 0.1 inch. |\\\\n| 29. March | 13 °C | 55 °F | 17 °C | 63 °F | 9 °C | 48 °F | 11 °C | 53 °F | 1.8 mm | 0.1 inch. |\\\\n| 30. March | 13 °C | 55 °F | 18 °C | 64 °F | 9 °C | 47 °F | 11 °C | 53 °F | 0.6 mm | 0.0 inch. |\\\\n| 31. March | 12 °C | 54 °F | 17 °C | 63 °F | 9 °C | 48 °F | 11 °C | 53 °F | 1.9 mm | 0.1 inch. |\\\\nData: 1999 - 2019 [...] (3.3)\\\\n| 78% | 7 | 8.0 |\\\\n| April | 12.5\\\\n(54.6)\\\\n| 8.9\\\\n(48.1)\\\\n| 17.4\\\\n(63.3)\\\\n| 40\\\\n(1.6)\\\\n| 72% | 4 | 9.0 |\\\\n| May | 14.1\\\\n(57.4)\\\\n| 10.3\\\\n(50.6)\\\\n| 19.2\\\\n(66.5)\\\\n| 21\\\\n(0.8)\\\\n| 70% | 2 | 9.0 |\\\\n| June | 15.9\\\\n(60.7)\\\\n| 11.8\\\\n(53.3)\\\\n| 21.5\\\\n(70.8)\\\\n| 6\\\\n(0.2)\\\\n| 69% | 1 | 9.0 |\\\\n| July | 16.3\\\\n(61.4)\\\\n| 12.7\\\\n(54.9)\\\\n| 21.8\\\\n(71.2)\\\\n| 2\\\\n(0.1)\\\\n| 74% | 0 | 7.0 |\\\\n| August | 16.7\\\\n(62.1)\\\\n| 13.3\\\\n(55.9)\\\\n| 22.2\\\\n(71.9)\\\\n| 2\\\\n(0.1)\\\\n| 74% | 0 | 7.0 |\\\\n| September | 17.1\\\\n(62.7)\\\\n| 13.1\\\\n(55.6)\\\\n| 23.1\\\\n(73.6)\\\\n| 3\\\\n(0.1)\\\\n| 71% | 1 | 8.0 | [...] | Max. Temperature °C (°F) | 14 °C\\\\n(57.3) °F\\\\n| 14.9 °C\\\\n(58.7) °F\\\\n| 16.2 °C\\\\n(61.2) °F\\\\n| 17.4 °C\\\\n(63.3) °F\\\\n| 19.2 °C\\\\n(66.5) °F\\\\n| 21.5 °C\\\\n(70.8) °F\\\\n| 21.8 °C\\\\n(71.2) °F\\\\n| 22.2 °C\\\\n(71.9) °F\\\\n| 23.1 °C\\\\n(73.6) °F\\\\n| 21.3 °C\\\\n(70.3) °F\\\\n| 17.1 °C\\\\n(62.8) °F\\\\n| 13.9 °C\\\\n(57.1) °F\\\\n|\\\\n| Precipitation / Rainfall mm (in) | 113\\\\n(4)\\\\n| 118\\\\n(4)\\\\n| 83\\\\n(3)\\\\n| 40\\\\n(1)\\\\n| 21\\\\n(0)\\\\n| 6\\\\n(0)\\\\n| 2\\\\n(0)\\\\n| 2\\\\n(0)\\\\n| 3\\\\n(0)\\\\n| 25\\\\n(0)\\\\n| 57\\\\n(2)\\\\n| 111\\\\n(4)\\\\n|\\\\n| Humidity(%) | 79% | 80% | 78% | 72% | 70% | 69% | 74% | 74% | 71% | 70% | 76% | 78% |', 'score': 0.81770587}, {'title': 'San Francisco Bay Area Weather March 29, 2025 - YouTube', 'url': 'https://www.youtube.com/watch?v=kaAh3XKGLos', 'content': 'San Francisco Bay Area Weather March 29, 2025. 12 views · 5 minutes ago ...more. KRON 4. 150K. Subscribe. 0. Share. Save.', 'score': 0.798643}]\", name='tavily_search_results_json', tool_call_id='call_wRSnQHrJYaVqTXqX3zb98z6t'),\n",
       "  AIMessage(content='The weather in San Francisco for the end of March 2025 is as follows:\\n- March 28: 12°C (54°F) with 2.4 mm of precipitation\\n- March 29: 13°C (55°F) with 1.8 mm of precipitation\\n- March 30: 13°C (55°F) with 0.6 mm of precipitation\\n- March 31: 12°C (54°F) with 1.9 mm of precipitation\\n\\nYou can find more detailed information on the [Climate Data website](https://en.climate-data.org/north-america/united-states-of-america/california/san-francisco-385/t/march-3/).', additional_kwargs={'refusal': None}, response_metadata={'token_usage': {'completion_tokens': 151, 'prompt_tokens': 1357, 'total_tokens': 1508, 'completion_tokens_details': {'accepted_prediction_tokens': 0, 'audio_tokens': 0, 'reasoning_tokens': 0, 'rejected_prediction_tokens': 0}, 'prompt_tokens_details': {'audio_tokens': 0, 'cached_tokens': 0}}, 'model_name': 'gpt-3.5-turbo-0125', 'system_fingerprint': None, 'id': 'chatcmpl-BGTtDt2FQxw6eM8uBm4CUPO2WmsCP', 'finish_reason': 'stop', 'logprobs': None}, id='run-c8b89e50-a1ad-42d2-a2f9-81fd7cc372bf-0', usage_metadata={'input_tokens': 1357, 'output_tokens': 151, 'total_tokens': 1508, 'input_token_details': {'audio': 0, 'cache_read': 0}, 'output_token_details': {'audio': 0, 'reasoning': 0}})]}"
      ]
     },
     "execution_count": 18,
     "metadata": {},
     "output_type": "execute_result"
    }
   ],
   "source": [
    "result"
   ]
  },
  {
   "cell_type": "code",
   "execution_count": 19,
   "metadata": {},
   "outputs": [
    {
     "data": {
      "text/plain": [
       "'The weather in San Francisco for the end of March 2025 is as follows:\\n- March 28: 12°C (54°F) with 2.4 mm of precipitation\\n- March 29: 13°C (55°F) with 1.8 mm of precipitation\\n- March 30: 13°C (55°F) with 0.6 mm of precipitation\\n- March 31: 12°C (54°F) with 1.9 mm of precipitation\\n\\nYou can find more detailed information on the [Climate Data website](https://en.climate-data.org/north-america/united-states-of-america/california/san-francisco-385/t/march-3/).'"
      ]
     },
     "execution_count": 19,
     "metadata": {},
     "output_type": "execute_result"
    }
   ],
   "source": [
    "result['messages'][-1].content"
   ]
  },
  {
   "cell_type": "code",
   "execution_count": 20,
   "metadata": {},
   "outputs": [
    {
     "name": "stdout",
     "output_type": "stream",
     "text": [
      "Calling: {'name': 'tavily_search_results_json', 'args': {'query': 'weather in San Francisco'}, 'id': 'call_4nwmRTJZIs8cwqSxdysr2w14', 'type': 'tool_call'}\n",
      "Calling: {'name': 'tavily_search_results_json', 'args': {'query': 'weather in Los Angeles'}, 'id': 'call_H3UGC6435Pcn6KbrLOnhQwkZ', 'type': 'tool_call'}\n",
      "Back to the model!\n"
     ]
    }
   ],
   "source": [
    "messages = [HumanMessage(content=\"What is the weather in SF and LA?\")]\n",
    "result = abot.graph.invoke({\"messages\": messages})"
   ]
  },
  {
   "cell_type": "code",
   "execution_count": 21,
   "metadata": {},
   "outputs": [
    {
     "data": {
      "text/plain": [
       "'The weather in San Francisco on March 29, 2025, is expected to have a daytime temperature of 13°C (55°F) and a nighttime temperature of 17°C (63°F) with a slight chance of precipitation. \\n\\nIn Los Angeles on March 29, 2025, the daytime temperature is forecasted to be around 68°F, dropping to 52°F at night. There is a low chance of precipitation with a wind speed of 7 mph and a UV index of 7.'"
      ]
     },
     "execution_count": 21,
     "metadata": {},
     "output_type": "execute_result"
    }
   ],
   "source": [
    "result['messages'][-1].content"
   ]
  },
  {
   "cell_type": "code",
   "execution_count": 22,
   "metadata": {},
   "outputs": [
    {
     "name": "stdout",
     "output_type": "stream",
     "text": [
      "Calling: {'name': 'tavily_search_results_json', 'args': {'query': 'Super Bowl 2024 winner'}, 'id': 'call_GhKQtJDKJkp9hhFK0JjjAbnS', 'type': 'tool_call'}\n",
      "Back to the model!\n",
      "Calling: {'name': 'tavily_search_results_json', 'args': {'query': 'where is Kansas City Chiefs headquarters located'}, 'id': 'call_64NPH71G3w0Cx7aw6r6NXV9j', 'type': 'tool_call'}\n",
      "Calling: {'name': 'tavily_search_results_json', 'args': {'query': 'GDP of Missouri 2024'}, 'id': 'call_MUdBtqKnunI5efOmeJHDVix4', 'type': 'tool_call'}\n",
      "Back to the model!\n"
     ]
    }
   ],
   "source": [
    "# Note, the query was modified to produce more consistent results. \n",
    "# Results may vary per run and over time as search information and models change.\n",
    "\n",
    "query = \"Who won the super bowl in 2024? In what state is the winning team headquarters located? \\\n",
    "What is the GDP of that state? Answer each question.\" \n",
    "messages = [HumanMessage(content=query)]\n",
    "\n",
    "model = ChatOpenAI(model=\"gpt-4o\")  # requires more advanced model\n",
    "abot = Agent(model, [tool], system=prompt)\n",
    "result = abot.graph.invoke({\"messages\": messages})"
   ]
  },
  {
   "cell_type": "code",
   "execution_count": 23,
   "metadata": {},
   "outputs": [
    {
     "name": "stdout",
     "output_type": "stream",
     "text": [
      "1. The Kansas City Chiefs won the Super Bowl in 2024.\n",
      "2. The headquarters of the Kansas City Chiefs is located in Kansas City, Missouri.\n",
      "3. The GDP of Missouri in late 2024 was approximately $455 billion.\n"
     ]
    }
   ],
   "source": [
    "print(result['messages'][-1].content)"
   ]
  },
  {
   "cell_type": "code",
   "execution_count": null,
   "metadata": {},
   "outputs": [],
   "source": []
  }
 ],
 "metadata": {
  "kernelspec": {
   "display_name": "Agent",
   "language": "python",
   "name": "python3"
  },
  "language_info": {
   "codemirror_mode": {
    "name": "ipython",
    "version": 3
   },
   "file_extension": ".py",
   "mimetype": "text/x-python",
   "name": "python",
   "nbconvert_exporter": "python",
   "pygments_lexer": "ipython3",
   "version": "3.13.2"
  }
 },
 "nbformat": 4,
 "nbformat_minor": 2
}
